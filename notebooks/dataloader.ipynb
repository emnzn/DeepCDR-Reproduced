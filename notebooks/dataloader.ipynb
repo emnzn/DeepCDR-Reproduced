{
 "cells": [
  {
   "cell_type": "code",
   "execution_count": 1,
   "metadata": {},
   "outputs": [
    {
     "name": "stderr",
     "output_type": "stream",
     "text": [
      "No normalization for SPS. Feature removed!\n",
      "No normalization for AvgIpc. Feature removed!\n",
      "No normalization for NumAmideBonds. Feature removed!\n",
      "No normalization for NumAtomStereoCenters. Feature removed!\n",
      "No normalization for NumBridgeheadAtoms. Feature removed!\n",
      "No normalization for NumHeterocycles. Feature removed!\n",
      "No normalization for NumSpiroAtoms. Feature removed!\n",
      "No normalization for NumUnspecifiedAtomStereoCenters. Feature removed!\n",
      "No normalization for Phi. Feature removed!\n"
     ]
    },
    {
     "name": "stdout",
     "output_type": "stream",
     "text": [
      "WARNING:tensorflow:From /Users/ericmonzon/mambaforge/envs/tensorflow/lib/python3.10/site-packages/tensorflow/python/util/deprecation.py:588: calling function (from tensorflow.python.eager.polymorphic_function.polymorphic_function) with experimental_relax_shapes is deprecated and will be removed in a future version.\n",
      "Instructions for updating:\n",
      "experimental_relax_shapes is deprecated, use reduce_retracing instead\n"
     ]
    },
    {
     "name": "stderr",
     "output_type": "stream",
     "text": [
      "Skipped loading modules with pytorch-geometric dependency, missing a dependency. No module named 'dgl'\n",
      "Skipped loading modules with transformers dependency. No module named 'transformers'\n",
      "cannot import name 'HuggingFaceModel' from 'deepchem.models.torch_models' (/Users/ericmonzon/mambaforge/envs/tensorflow/lib/python3.10/site-packages/deepchem/models/torch_models/__init__.py)\n",
      "Skipped loading modules with pytorch-lightning dependency, missing a dependency. No module named 'lightning'\n",
      "Skipped loading some Jax models, missing a dependency. No module named 'jax'\n"
     ]
    }
   ],
   "source": [
    "import os\n",
    "from typing import Dict\n",
    "\n",
    "import torch\n",
    "import numpy as np\n",
    "import pandas as pd\n",
    "import hickle as hkl\n",
    "from tqdm import tqdm\n",
    "import deepchem as dc\n",
    "import torch.nn as nn\n",
    "from rdkit import Chem\n",
    "import scipy.sparse as sp\n",
    "import torch.nn.functional as F\n",
    "from torch_geometric.data import Data as GraphData\n",
    "from torch.utils.data import Dataset, DataLoader\n",
    "from torch_geometric.utils import dense_to_sparse\n",
    "from torch_geometric.nn import GCNConv, global_mean_pool, BatchNorm, Sequential as GraphSequential\n",
    "from torch_geometric.loader import DataLoader as GraphDataLoader"
   ]
  },
  {
   "cell_type": "code",
   "execution_count": 2,
   "metadata": {},
   "outputs": [],
   "source": [
    "class MultiOmicsDataset(Dataset):\n",
    "    def __init__(\n",
    "        self,\n",
    "        table_path: str,\n",
    "        drug_dir: str,\n",
    "        cell_line_dir: str,\n",
    "        mode: str = \"classification\"\n",
    "        ):\n",
    "        super().__init__()\n",
    "        valid_modes = [\"classification\", \"regression\"]\n",
    "        assert mode in valid_modes, f\"mode must be one of {valid_modes}\"\n",
    "\n",
    "        self.table = pd.read_csv(table_path)\n",
    "        self.drug_dir = drug_dir\n",
    "        self.cell_line_dir = cell_line_dir\n",
    "        self.mode = mode\n",
    "\n",
    "    def __len__(self):\n",
    "        return self.table.shape[0]\n",
    "    \n",
    "    def __getitem__(self, idx):\n",
    "        row = self.table.iloc[idx]\n",
    "        drug_id = str(row[\"drug_id\"])\n",
    "        cell_line_id = row[\"cell_line_id\"]\n",
    "        target = row[\"label\"] if self.mode == \"classification\" else row[\"ic50\"]\n",
    "        \n",
    "        drug_dir = os.path.join(self.drug_dir, drug_id)\n",
    "        cell_line_dir = os.path.join(self.cell_line_dir, cell_line_id)\n",
    "\n",
    "        drug_feature_path = os.path.join(drug_dir, \"drug-feature.npy\")\n",
    "        drug_edge_list_path = os.path.join(drug_dir, \"drug-edge-list.npy\")\n",
    "\n",
    "        gene_expression_path = os.path.join(cell_line_dir, \"gene-feature.npy\")\n",
    "        methylation_path = os.path.join(cell_line_dir, \"methylation-feature.npy\")\n",
    "        mutation_path = os.path.join(cell_line_dir, \"mutation-feature.npy\")\n",
    "\n",
    "        gene_expression = np.load(gene_expression_path)\n",
    "        methylation = np.load(methylation_path)\n",
    "        mutation = np.load(mutation_path)\n",
    "\n",
    "        drug_dict = {\n",
    "            \"feature_path\": drug_feature_path,\n",
    "            \"edge_list_path\": drug_edge_list_path\n",
    "        }\n",
    "\n",
    "        cell_line_dict = {\n",
    "            \"gene_expression\": gene_expression,\n",
    "            \"methylation\": methylation,\n",
    "            \"mutation\": mutation\n",
    "        }\n",
    "\n",
    "        return drug_dict, cell_line_dict, target"
   ]
  },
  {
   "cell_type": "code",
   "execution_count": 3,
   "metadata": {},
   "outputs": [],
   "source": [
    "data_dir = os.path.join(\"..\", \"data\", \"cleaned\")\n",
    "\n",
    "table_path = os.path.join(data_dir, \"train.csv\")\n",
    "drug_dir = os.path.join(data_dir, \"drugs\")\n",
    "cell_line_dir = os.path.join(data_dir, \"cell-line\")\n",
    "\n",
    "dataset = MultiOmicsDataset(table_path, drug_dir, cell_line_dir)"
   ]
  },
  {
   "cell_type": "code",
   "execution_count": 4,
   "metadata": {},
   "outputs": [],
   "source": [
    "loader = DataLoader(dataset, batch_size=5)\n",
    "\n",
    "drug_dict, cell_line_dict, target = next(iter(loader))"
   ]
  },
  {
   "cell_type": "code",
   "execution_count": 5,
   "metadata": {},
   "outputs": [
    {
     "data": {
      "text/plain": [
       "{'feature_path': ['../data/cleaned/drugs/11282283/drug-feature.npy',\n",
       "  '../data/cleaned/drugs/216326/drug-feature.npy',\n",
       "  '../data/cleaned/drugs/6918289/drug-feature.npy',\n",
       "  '../data/cleaned/drugs/56965967/drug-feature.npy',\n",
       "  '../data/cleaned/drugs/300471/drug-feature.npy'],\n",
       " 'edge_list_path': ['../data/cleaned/drugs/11282283/drug-edge-list.npy',\n",
       "  '../data/cleaned/drugs/216326/drug-edge-list.npy',\n",
       "  '../data/cleaned/drugs/6918289/drug-edge-list.npy',\n",
       "  '../data/cleaned/drugs/56965967/drug-edge-list.npy',\n",
       "  '../data/cleaned/drugs/300471/drug-edge-list.npy']}"
      ]
     },
     "execution_count": 5,
     "metadata": {},
     "output_type": "execute_result"
    }
   ],
   "source": [
    "drug_dict"
   ]
  },
  {
   "cell_type": "code",
   "execution_count": 6,
   "metadata": {},
   "outputs": [
    {
     "data": {
      "text/plain": [
       "{'gene_expression': tensor([[4.9593, 2.1110, 4.0179,  ..., 6.9226, 4.7301, 0.6690],\n",
       "         [6.0851, 0.0000, 3.3730,  ..., 5.2079, 5.9896, 1.0496],\n",
       "         [5.8585, 2.6622, 3.7015,  ..., 7.8377, 6.5159, 2.3132],\n",
       "         [5.9741, 3.1554, 4.1383,  ..., 6.0906, 5.6496, 0.7312],\n",
       "         [6.5563, 0.7049, 4.0339,  ..., 5.5110, 4.4296, 1.1309]]),\n",
       " 'methylation': tensor([[0.0000, 0.0000, 0.1769,  ..., 0.0020, 0.0020, 0.0085],\n",
       "         [0.0027, 0.0246, 0.0785,  ..., 0.0084, 0.0084, 0.0026],\n",
       "         [0.0042, 0.3307, 0.0140,  ..., 0.0006, 0.0006, 0.0021],\n",
       "         [0.0000, 0.0009, 0.0706,  ..., 0.0255, 0.0255, 0.0045],\n",
       "         [0.0000, 0.0045, 0.5713,  ..., 0.0057, 0.0057, 0.0000]]),\n",
       " 'mutation': tensor([[[0., 0., 0.,  ..., 0., 0., 0.]],\n",
       " \n",
       "         [[0., 0., 0.,  ..., 0., 0., 0.]],\n",
       " \n",
       "         [[0., 0., 0.,  ..., 0., 0., 0.]],\n",
       " \n",
       "         [[0., 0., 0.,  ..., 0., 0., 0.]],\n",
       " \n",
       "         [[0., 0., 0.,  ..., 0., 0., 0.]]])}"
      ]
     },
     "execution_count": 6,
     "metadata": {},
     "output_type": "execute_result"
    }
   ],
   "source": [
    "cell_line_dict"
   ]
  },
  {
   "cell_type": "code",
   "execution_count": 7,
   "metadata": {},
   "outputs": [
    {
     "data": {
      "text/plain": [
       "torch.Size([5])"
      ]
     },
     "execution_count": 7,
     "metadata": {},
     "output_type": "execute_result"
    }
   ],
   "source": [
    "target.shape"
   ]
  },
  {
   "cell_type": "code",
   "execution_count": 8,
   "metadata": {},
   "outputs": [],
   "source": [
    "def extract_graph(drug_dict: Dict[str, str]):\n",
    "    features = [np.load(f) for f in drug_dict[\"feature_path\"]]\n",
    "    edge_lists = [np.load(f) for f in drug_dict[\"edge_list_path\"]]\n",
    "\n",
    "    features = [torch.tensor(f, dtype=torch.float32) for f in features]\n",
    "    edge_lists = [torch.tensor(e, dtype=torch.long) for e in edge_lists]\n",
    "\n",
    "    graphs = [GraphData(x=feature, edge_index=edge_list) for feature, edge_list in zip(features, edge_lists)]\n",
    "\n",
    "    return graphs"
   ]
  },
  {
   "cell_type": "code",
   "execution_count": 9,
   "metadata": {},
   "outputs": [
    {
     "data": {
      "text/plain": [
       "[Data(x=[32, 75], edge_index=[2, 74]),\n",
       " Data(x=[19, 75], edge_index=[2, 42]),\n",
       " Data(x=[73, 75], edge_index=[2, 152]),\n",
       " Data(x=[38, 75], edge_index=[2, 84]),\n",
       " Data(x=[27, 75], edge_index=[2, 56])]"
      ]
     },
     "execution_count": 9,
     "metadata": {},
     "output_type": "execute_result"
    }
   ],
   "source": [
    "graphs = extract_graph(drug_dict)\n",
    "\n",
    "graphs"
   ]
  },
  {
   "cell_type": "code",
   "execution_count": 10,
   "metadata": {},
   "outputs": [],
   "source": [
    "graph_loader = GraphDataLoader(graphs, batch_size=len(graphs), shuffle=False)\n",
    "\n",
    "batch = next(iter(graph_loader))"
   ]
  },
  {
   "cell_type": "code",
   "execution_count": 11,
   "metadata": {},
   "outputs": [
    {
     "data": {
      "text/plain": [
       "torch.Size([189, 75])"
      ]
     },
     "execution_count": 11,
     "metadata": {},
     "output_type": "execute_result"
    }
   ],
   "source": [
    "batch.x.shape"
   ]
  },
  {
   "cell_type": "code",
   "execution_count": 12,
   "metadata": {},
   "outputs": [],
   "source": [
    "class DrugGCN(nn.Module):\n",
    "    def __init__(\n",
    "        self,\n",
    "        in_dim: int = 75,\n",
    "        hidden_dim: int = 256,\n",
    "        num_hidden: int = 3,\n",
    "        output_dim: int = 100,\n",
    "        dropout_prob: float = 0.1\n",
    "        ):\n",
    "        super().__init__()\n",
    "\n",
    "        self.embedding_layer = GraphSequential(\"x, edge_index\", [\n",
    "            (GCNConv(in_dim, hidden_dim), \"x, edge_index -> x\"),\n",
    "            nn.ReLU(),\n",
    "            BatchNorm(hidden_dim),\n",
    "            nn.Dropout(p=dropout_prob)\n",
    "        ])\n",
    "\n",
    "        hidden_layers = []\n",
    "\n",
    "        for _ in range(num_hidden-2):\n",
    "            hidden_layers.append((GCNConv(hidden_dim, hidden_dim), \"x, edge_index -> x\"))\n",
    "            hidden_layers.append(nn.ReLU())\n",
    "            hidden_layers.append(BatchNorm(hidden_dim))\n",
    "            hidden_layers.append(nn.Dropout(p=dropout_prob))\n",
    "        \n",
    "        self.hidden_layer = GraphSequential(\"x, edge_index\", hidden_layers)\n",
    "\n",
    "        self.output_layer = GraphSequential(\"x, edge_index\", [\n",
    "            (GCNConv(hidden_dim, output_dim), \"x, edge_index -> x\"),\n",
    "            nn.ReLU(),\n",
    "            BatchNorm(output_dim),\n",
    "            nn.Dropout(p=dropout_prob)\n",
    "        ])\n",
    "        \n",
    "    def forward(self, x, edge_index, batch):\n",
    "        x = self.embedding_layer(x, edge_index)\n",
    "        # print(x.shape)\n",
    "\n",
    "        x = self.hidden_layer(x, edge_index)\n",
    "        # print(x.shape)\n",
    "\n",
    "        x = self.output_layer(x, edge_index)\n",
    "        # print(x.shape)\n",
    "\n",
    "        embedding = global_mean_pool(x, batch)\n",
    "\n",
    "        return embedding"
   ]
  },
  {
   "cell_type": "code",
   "execution_count": 13,
   "metadata": {},
   "outputs": [],
   "source": [
    "graph_net = DrugGCN()\n",
    "\n",
    "out = graph_net(batch.x, batch.edge_index, batch.batch)"
   ]
  },
  {
   "cell_type": "code",
   "execution_count": 14,
   "metadata": {},
   "outputs": [
    {
     "data": {
      "text/plain": [
       "torch.Size([5, 100])"
      ]
     },
     "execution_count": 14,
     "metadata": {},
     "output_type": "execute_result"
    }
   ],
   "source": [
    "out.shape"
   ]
  },
  {
   "cell_type": "code",
   "execution_count": 15,
   "metadata": {},
   "outputs": [
    {
     "data": {
      "text/plain": [
       "DrugGCN(\n",
       "  (embedding_layer): Sequential(\n",
       "    (0) - GCNConv(75, 256): x, edge_index -> x\n",
       "    (1) - ReLU(): x -> x\n",
       "    (2) - BatchNorm(256, eps=1e-05, momentum=0.1, affine=True, track_running_stats=True): x -> x\n",
       "    (3) - Dropout(p=0.1, inplace=False): x -> x\n",
       "  )\n",
       "  (hidden_layer): Sequential(\n",
       "    (0) - GCNConv(256, 256): x, edge_index -> x\n",
       "    (1) - ReLU(): x -> x\n",
       "    (2) - BatchNorm(256, eps=1e-05, momentum=0.1, affine=True, track_running_stats=True): x -> x\n",
       "    (3) - Dropout(p=0.1, inplace=False): x -> x\n",
       "  )\n",
       "  (output_layer): Sequential(\n",
       "    (0) - GCNConv(256, 100): x, edge_index -> x\n",
       "    (1) - ReLU(): x -> x\n",
       "    (2) - BatchNorm(100, eps=1e-05, momentum=0.1, affine=True, track_running_stats=True): x -> x\n",
       "    (3) - Dropout(p=0.1, inplace=False): x -> x\n",
       "  )\n",
       ")"
      ]
     },
     "execution_count": 15,
     "metadata": {},
     "output_type": "execute_result"
    }
   ],
   "source": [
    "graph_net"
   ]
  },
  {
   "cell_type": "code",
   "execution_count": 16,
   "metadata": {},
   "outputs": [
    {
     "data": {
      "text/plain": [
       "torch.Size([5, 1, 34673])"
      ]
     },
     "execution_count": 16,
     "metadata": {},
     "output_type": "execute_result"
    }
   ],
   "source": [
    "cell_line_dict[\"mutation\"].shape"
   ]
  },
  {
   "cell_type": "code",
   "execution_count": 17,
   "metadata": {},
   "outputs": [],
   "source": [
    "class MutationConv1d(nn.Module):\n",
    "    def __init__(\n",
    "        self,\n",
    "        in_channels: int = 1,\n",
    "        output_dim: int = 100,\n",
    "        dropout_prob: float = 0.1\n",
    "        ):\n",
    "        super().__init__()\n",
    "        \n",
    "        self.conv1 = nn.Sequential(\n",
    "            nn.Conv1d(\n",
    "                in_channels=in_channels,\n",
    "                out_channels=50,\n",
    "                kernel_size=700,\n",
    "                stride=5\n",
    "            ),\n",
    "            nn.Tanh(),\n",
    "            nn.MaxPool1d(kernel_size=5)\n",
    "        )\n",
    "        \n",
    "        self.conv2 = nn.Sequential(\n",
    "            nn.Conv1d(\n",
    "                in_channels=50,\n",
    "                out_channels=30,\n",
    "                kernel_size=5,\n",
    "                stride=2\n",
    "            ),\n",
    "            nn.ReLU(),\n",
    "            nn.MaxPool1d(kernel_size=10),\n",
    "            nn.Flatten()\n",
    "        )\n",
    "\n",
    "        self.fc = nn.Sequential(\n",
    "            nn.Linear(2010, output_dim),\n",
    "            nn.ReLU(),\n",
    "            nn.Dropout(p=dropout_prob)\n",
    "        )\n",
    "\n",
    "    def forward(self, x):\n",
    "        x = self.conv1(x)\n",
    "        x = self.conv2(x)\n",
    "        embedding = self.fc(x)\n",
    "\n",
    "        return embedding"
   ]
  },
  {
   "cell_type": "code",
   "execution_count": 18,
   "metadata": {},
   "outputs": [
    {
     "data": {
      "text/plain": [
       "torch.Size([5, 100])"
      ]
     },
     "execution_count": 18,
     "metadata": {},
     "output_type": "execute_result"
    }
   ],
   "source": [
    "mutation_net = MutationConv1d()\n",
    "\n",
    "mutation_net(cell_line_dict[\"mutation\"]).shape"
   ]
  },
  {
   "cell_type": "code",
   "execution_count": 19,
   "metadata": {},
   "outputs": [
    {
     "data": {
      "text/plain": [
       "torch.Size([5, 697])"
      ]
     },
     "execution_count": 19,
     "metadata": {},
     "output_type": "execute_result"
    }
   ],
   "source": [
    "cell_line_dict[\"gene_expression\"].shape"
   ]
  },
  {
   "cell_type": "code",
   "execution_count": 20,
   "metadata": {},
   "outputs": [],
   "source": [
    "class MLP(nn.Module):\n",
    "    def __init__(\n",
    "        self,\n",
    "        in_dim: int,\n",
    "        embedding_dim: int = 256,\n",
    "        output_dim: int = 100,\n",
    "        dropout_prob: float = 0.1\n",
    "        ):\n",
    "        super().__init__()\n",
    "\n",
    "        self.fc1 = nn.Sequential(\n",
    "            nn.Linear(in_dim, embedding_dim),\n",
    "            nn.Tanh(),\n",
    "            nn.BatchNorm1d(embedding_dim),\n",
    "            nn.Dropout(p=dropout_prob)\n",
    "        )\n",
    "\n",
    "        self.fc2 = nn.Sequential(\n",
    "            nn.Linear(embedding_dim, output_dim),\n",
    "            nn.ReLU()\n",
    "        )\n",
    "\n",
    "    def forward(self, x):\n",
    "        x = self.fc1(x)\n",
    "        embedding = self.fc2(x)\n",
    "\n",
    "        return embedding"
   ]
  },
  {
   "cell_type": "code",
   "execution_count": 21,
   "metadata": {},
   "outputs": [
    {
     "data": {
      "text/plain": [
       "torch.Size([5, 697])"
      ]
     },
     "execution_count": 21,
     "metadata": {},
     "output_type": "execute_result"
    }
   ],
   "source": [
    "cell_line_dict[\"gene_expression\"].shape"
   ]
  },
  {
   "cell_type": "code",
   "execution_count": 22,
   "metadata": {},
   "outputs": [
    {
     "data": {
      "text/plain": [
       "torch.Size([5, 100])"
      ]
     },
     "execution_count": 22,
     "metadata": {},
     "output_type": "execute_result"
    }
   ],
   "source": [
    "gene_net = MLP(in_dim=697)\n",
    "\n",
    "gene_net(cell_line_dict[\"gene_expression\"]).shape"
   ]
  },
  {
   "cell_type": "code",
   "execution_count": 23,
   "metadata": {},
   "outputs": [
    {
     "data": {
      "text/plain": [
       "torch.Size([5, 808])"
      ]
     },
     "execution_count": 23,
     "metadata": {},
     "output_type": "execute_result"
    }
   ],
   "source": [
    "cell_line_dict[\"methylation\"].shape"
   ]
  },
  {
   "cell_type": "code",
   "execution_count": 24,
   "metadata": {},
   "outputs": [
    {
     "data": {
      "text/plain": [
       "torch.Size([5, 100])"
      ]
     },
     "execution_count": 24,
     "metadata": {},
     "output_type": "execute_result"
    }
   ],
   "source": [
    "methylation_net = MLP(in_dim=808)\n",
    "\n",
    "methylation_net(cell_line_dict[\"methylation\"]).shape"
   ]
  },
  {
   "cell_type": "code",
   "execution_count": 25,
   "metadata": {},
   "outputs": [],
   "source": [
    "class DeepCDR(nn.Module):\n",
    "    def __init__(\n",
    "        self,\n",
    "        mode: str = \"classification\",\n",
    "        output_dim: int = 100,\n",
    "        dropout_prob: float = 0.1,\n",
    "        ):\n",
    "        super().__init__()\n",
    "\n",
    "        valid_modes = [\"classification\", \"regression\"]\n",
    "        assert mode in valid_modes, f\"mode must be one of {valid_modes}\"\n",
    "\n",
    "        self.drug_net = DrugGCN(\n",
    "            output_dim=output_dim, \n",
    "            dropout_prob=dropout_prob\n",
    "            )\n",
    "        \n",
    "        self.gene_net = MLP(\n",
    "            in_dim=697, \n",
    "            output_dim=output_dim, \n",
    "            dropout_prob=dropout_prob\n",
    "            )\n",
    "        \n",
    "        self.methylation_net = MLP(\n",
    "            in_dim=808, \n",
    "            output_dim=output_dim, \n",
    "            dropout_prob=dropout_prob\n",
    "            )\n",
    "        \n",
    "        self.mutation_net = MutationConv1d(\n",
    "            output_dim=output_dim, \n",
    "            dropout_prob=dropout_prob\n",
    "            )\n",
    "\n",
    "        self.projection = nn.Sequential(\n",
    "            nn.Linear(output_dim*4, 300),\n",
    "            nn.Tanh(),\n",
    "            nn.Dropout(p=dropout_prob),\n",
    "        )\n",
    "\n",
    "        self.conv = nn.Sequential(\n",
    "            nn.Conv1d(in_channels=1, out_channels=30, kernel_size=150, stride=1),\n",
    "            nn.ReLU(),\n",
    "            nn.MaxPool1d(kernel_size=2),\n",
    "            nn.Conv1d(in_channels=30, out_channels=10, kernel_size=5, stride=1),\n",
    "            nn.ReLU(),\n",
    "            nn.MaxPool1d(kernel_size=3),\n",
    "            nn.Conv1d(in_channels=10, out_channels=5, kernel_size=5, stride=1),\n",
    "            nn.ReLU(),\n",
    "            nn.MaxPool1d(kernel_size=3),\n",
    "            nn.Dropout(p=dropout_prob),\n",
    "            nn.Flatten(),\n",
    "            nn.Dropout(p=0.2)\n",
    "        )\n",
    "\n",
    "        self.fc = nn.Linear(30, 2 if mode == \"classification\" else 1)\n",
    "\n",
    "    def forward(\n",
    "        self, \n",
    "        drug_graphs, \n",
    "        gene_expression_features, \n",
    "        methylation_features, \n",
    "        mutation_features\n",
    "        ):\n",
    "\n",
    "        drug_embedding = self.drug_net(\n",
    "            drug_graphs.x, \n",
    "            drug_graphs.edge_index, \n",
    "            drug_graphs.batch\n",
    "        )\n",
    "\n",
    "        gene_expression_embedding = self.gene_net(\n",
    "            gene_expression_features\n",
    "        )\n",
    "\n",
    "        methylation_embedding = self.methylation_net(\n",
    "            methylation_features\n",
    "        )\n",
    "\n",
    "        mutation_embedding = self.mutation_net(\n",
    "            mutation_features\n",
    "        )\n",
    "\n",
    "        combined_embedding = torch.cat([\n",
    "            drug_embedding,\n",
    "            gene_expression_embedding,\n",
    "            methylation_embedding,\n",
    "            mutation_embedding\n",
    "        ], dim=-1)\n",
    "\n",
    "        x = self.projection(combined_embedding)\n",
    "        x = x.unsqueeze(1)\n",
    "        x = self.conv(x)\n",
    "        \n",
    "        out = self.fc(x)\n",
    "\n",
    "        return out\n"
   ]
  },
  {
   "cell_type": "code",
   "execution_count": 26,
   "metadata": {},
   "outputs": [
    {
     "data": {
      "text/plain": [
       "torch.Size([10, 400])"
      ]
     },
     "execution_count": 26,
     "metadata": {},
     "output_type": "execute_result"
    }
   ],
   "source": [
    "sample_embeds = [torch.randn(10, 100) for _ in range(4)]\n",
    "\n",
    "torch.cat(sample_embeds, dim=-1).shape"
   ]
  },
  {
   "cell_type": "code",
   "execution_count": 27,
   "metadata": {},
   "outputs": [],
   "source": [
    "multi_net = DeepCDR()\n",
    "\n",
    "out = multi_net(batch, cell_line_dict[\"gene_expression\"], cell_line_dict[\"methylation\"], cell_line_dict[\"mutation\"])"
   ]
  },
  {
   "cell_type": "code",
   "execution_count": 28,
   "metadata": {},
   "outputs": [
    {
     "data": {
      "text/plain": [
       "torch.Size([5, 2])"
      ]
     },
     "execution_count": 28,
     "metadata": {},
     "output_type": "execute_result"
    }
   ],
   "source": [
    "out.shape"
   ]
  },
  {
   "cell_type": "code",
   "execution_count": null,
   "metadata": {},
   "outputs": [],
   "source": []
  }
 ],
 "metadata": {
  "kernelspec": {
   "display_name": "tensorflow",
   "language": "python",
   "name": "python3"
  },
  "language_info": {
   "codemirror_mode": {
    "name": "ipython",
    "version": 3
   },
   "file_extension": ".py",
   "mimetype": "text/x-python",
   "name": "python",
   "nbconvert_exporter": "python",
   "pygments_lexer": "ipython3",
   "version": "3.10.16"
  }
 },
 "nbformat": 4,
 "nbformat_minor": 2
}
