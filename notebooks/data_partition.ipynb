{
 "cells": [
  {
   "cell_type": "code",
   "execution_count": 1,
   "metadata": {},
   "outputs": [],
   "source": [
    "import os\n",
    "import json\n",
    "\n",
    "import pandas as pd\n",
    "from sklearn.model_selection import train_test_split"
   ]
  },
  {
   "cell_type": "code",
   "execution_count": 2,
   "metadata": {},
   "outputs": [
    {
     "data": {
      "text/plain": [
       "True"
      ]
     },
     "execution_count": 2,
     "metadata": {},
     "output_type": "execute_result"
    }
   ],
   "source": [
    "label_dir = os.path.join(\"..\", \"data\", \"cleaned\", \"targets\", \"discrete-labels.json\")\n",
    "\n",
    "os.path.isfile(label_dir)"
   ]
  },
  {
   "cell_type": "code",
   "execution_count": 3,
   "metadata": {},
   "outputs": [
    {
     "data": {
      "text/plain": [
       "True"
      ]
     },
     "execution_count": 3,
     "metadata": {},
     "output_type": "execute_result"
    }
   ],
   "source": [
    "continuous_dir = os.path.join(\"..\", \"data\", \"cleaned\", \"targets\", \"continuous-labels.json\")\n",
    "\n",
    "os.path.isfile(continuous_dir)"
   ]
  },
  {
   "cell_type": "code",
   "execution_count": 4,
   "metadata": {},
   "outputs": [],
   "source": [
    "with open(label_dir, \"r\") as f:\n",
    "    labels = json.load(f)\n",
    "\n",
    "with open(continuous_dir, \"r\") as f:\n",
    "    ic50 = json.load(f)"
   ]
  },
  {
   "cell_type": "code",
   "execution_count": 5,
   "metadata": {},
   "outputs": [
    {
     "data": {
      "text/plain": [
       "True"
      ]
     },
     "execution_count": 5,
     "metadata": {},
     "output_type": "execute_result"
    }
   ],
   "source": [
    "all([k in ic50.keys() for k in labels.keys()])"
   ]
  },
  {
   "cell_type": "code",
   "execution_count": 6,
   "metadata": {},
   "outputs": [
    {
     "data": {
      "text/html": [
       "<div>\n",
       "<style scoped>\n",
       "    .dataframe tbody tr th:only-of-type {\n",
       "        vertical-align: middle;\n",
       "    }\n",
       "\n",
       "    .dataframe tbody tr th {\n",
       "        vertical-align: top;\n",
       "    }\n",
       "\n",
       "    .dataframe thead th {\n",
       "        text-align: right;\n",
       "    }\n",
       "</style>\n",
       "<table border=\"1\" class=\"dataframe\">\n",
       "  <thead>\n",
       "    <tr style=\"text-align: right;\">\n",
       "      <th></th>\n",
       "      <th>pair_id</th>\n",
       "      <th>label</th>\n",
       "      <th>ic50</th>\n",
       "    </tr>\n",
       "  </thead>\n",
       "  <tbody>\n",
       "    <tr>\n",
       "      <th>0</th>\n",
       "      <td>ACH-000070_ALL_176870</td>\n",
       "      <td>0</td>\n",
       "      <td>0.693305</td>\n",
       "    </tr>\n",
       "    <tr>\n",
       "      <th>1</th>\n",
       "      <td>ACH-000137_GBM_176870</td>\n",
       "      <td>0</td>\n",
       "      <td>2.580268</td>\n",
       "    </tr>\n",
       "    <tr>\n",
       "      <th>2</th>\n",
       "      <td>ACH-000008_SKCM_176870</td>\n",
       "      <td>0</td>\n",
       "      <td>2.557837</td>\n",
       "    </tr>\n",
       "    <tr>\n",
       "      <th>3</th>\n",
       "      <td>ACH-000740_HNSC_176870</td>\n",
       "      <td>0</td>\n",
       "      <td>0.290013</td>\n",
       "    </tr>\n",
       "    <tr>\n",
       "      <th>4</th>\n",
       "      <td>ACH-000697_DLBC_176870</td>\n",
       "      <td>0</td>\n",
       "      <td>1.110250</td>\n",
       "    </tr>\n",
       "  </tbody>\n",
       "</table>\n",
       "</div>"
      ],
      "text/plain": [
       "                  pair_id  label      ic50\n",
       "0   ACH-000070_ALL_176870      0  0.693305\n",
       "1   ACH-000137_GBM_176870      0  2.580268\n",
       "2  ACH-000008_SKCM_176870      0  2.557837\n",
       "3  ACH-000740_HNSC_176870      0  0.290013\n",
       "4  ACH-000697_DLBC_176870      0  1.110250"
      ]
     },
     "execution_count": 6,
     "metadata": {},
     "output_type": "execute_result"
    }
   ],
   "source": [
    "data_dict = {\n",
    "    \"pair_id\": [k for k in labels.keys()],\n",
    "    \"label\": [v for v in labels.values()],\n",
    "    \"ic50\": [ic50[k] for k in labels.keys()]\n",
    "}\n",
    "\n",
    "df = pd.DataFrame(data_dict)\n",
    "\n",
    "df.head()"
   ]
  },
  {
   "cell_type": "code",
   "execution_count": 7,
   "metadata": {},
   "outputs": [
    {
     "data": {
      "text/html": [
       "<div>\n",
       "<style scoped>\n",
       "    .dataframe tbody tr th:only-of-type {\n",
       "        vertical-align: middle;\n",
       "    }\n",
       "\n",
       "    .dataframe tbody tr th {\n",
       "        vertical-align: top;\n",
       "    }\n",
       "\n",
       "    .dataframe thead th {\n",
       "        text-align: right;\n",
       "    }\n",
       "</style>\n",
       "<table border=\"1\" class=\"dataframe\">\n",
       "  <thead>\n",
       "    <tr style=\"text-align: right;\">\n",
       "      <th></th>\n",
       "      <th>pair_id</th>\n",
       "      <th>label</th>\n",
       "      <th>ic50</th>\n",
       "      <th>cell_line_id</th>\n",
       "      <th>drug_id</th>\n",
       "      <th>cancer_type</th>\n",
       "    </tr>\n",
       "  </thead>\n",
       "  <tbody>\n",
       "    <tr>\n",
       "      <th>0</th>\n",
       "      <td>ACH-000070_ALL_176870</td>\n",
       "      <td>0</td>\n",
       "      <td>0.693305</td>\n",
       "      <td>ACH-000070</td>\n",
       "      <td>176870</td>\n",
       "      <td>ALL</td>\n",
       "    </tr>\n",
       "    <tr>\n",
       "      <th>1</th>\n",
       "      <td>ACH-000137_GBM_176870</td>\n",
       "      <td>0</td>\n",
       "      <td>2.580268</td>\n",
       "      <td>ACH-000137</td>\n",
       "      <td>176870</td>\n",
       "      <td>GBM</td>\n",
       "    </tr>\n",
       "    <tr>\n",
       "      <th>2</th>\n",
       "      <td>ACH-000008_SKCM_176870</td>\n",
       "      <td>0</td>\n",
       "      <td>2.557837</td>\n",
       "      <td>ACH-000008</td>\n",
       "      <td>176870</td>\n",
       "      <td>SKCM</td>\n",
       "    </tr>\n",
       "    <tr>\n",
       "      <th>3</th>\n",
       "      <td>ACH-000740_HNSC_176870</td>\n",
       "      <td>0</td>\n",
       "      <td>0.290013</td>\n",
       "      <td>ACH-000740</td>\n",
       "      <td>176870</td>\n",
       "      <td>HNSC</td>\n",
       "    </tr>\n",
       "    <tr>\n",
       "      <th>4</th>\n",
       "      <td>ACH-000697_DLBC_176870</td>\n",
       "      <td>0</td>\n",
       "      <td>1.110250</td>\n",
       "      <td>ACH-000697</td>\n",
       "      <td>176870</td>\n",
       "      <td>DLBC</td>\n",
       "    </tr>\n",
       "  </tbody>\n",
       "</table>\n",
       "</div>"
      ],
      "text/plain": [
       "                  pair_id  label      ic50 cell_line_id drug_id cancer_type\n",
       "0   ACH-000070_ALL_176870      0  0.693305   ACH-000070  176870         ALL\n",
       "1   ACH-000137_GBM_176870      0  2.580268   ACH-000137  176870         GBM\n",
       "2  ACH-000008_SKCM_176870      0  2.557837   ACH-000008  176870        SKCM\n",
       "3  ACH-000740_HNSC_176870      0  0.290013   ACH-000740  176870        HNSC\n",
       "4  ACH-000697_DLBC_176870      0  1.110250   ACH-000697  176870        DLBC"
      ]
     },
     "execution_count": 7,
     "metadata": {},
     "output_type": "execute_result"
    }
   ],
   "source": [
    "df[\"cell_line_id\"] = df[\"pair_id\"].map(lambda x: x.split(\"_\")[0])\n",
    "df[\"drug_id\"] = df[\"pair_id\"].map(lambda x: x.split(\"_\")[-1])\n",
    "df[\"cancer_type\"] = df[\"pair_id\"].map(lambda x: x.split(\"_\")[1])\n",
    "\n",
    "df.head()"
   ]
  },
  {
   "cell_type": "code",
   "execution_count": 8,
   "metadata": {},
   "outputs": [],
   "source": [
    "train, test = train_test_split(df, test_size=0.30, stratify=df[\"cancer_type\"], random_state=42)\n",
    "val, test = train_test_split(test, test_size=0.50, stratify=test[\"cancer_type\"], random_state=42)"
   ]
  },
  {
   "cell_type": "code",
   "execution_count": 9,
   "metadata": {},
   "outputs": [
    {
     "name": "stdout",
     "output_type": "stream",
     "text": [
      "train shape: (70744, 6)\n",
      "val shape: (15159, 6)\n",
      "test shape: (15160, 6)\n"
     ]
    }
   ],
   "source": [
    "print(\"train shape:\", train.shape)\n",
    "print(\"val shape:\", val.shape)\n",
    "print(\"test shape:\", test.shape)"
   ]
  },
  {
   "cell_type": "code",
   "execution_count": 10,
   "metadata": {},
   "outputs": [
    {
     "data": {
      "text/plain": [
       "True"
      ]
     },
     "execution_count": 10,
     "metadata": {},
     "output_type": "execute_result"
    }
   ],
   "source": [
    "all([i not in val[\"pair_id\"] for i in train[\"pair_id\"]])"
   ]
  },
  {
   "cell_type": "code",
   "execution_count": 11,
   "metadata": {},
   "outputs": [
    {
     "data": {
      "text/plain": [
       "True"
      ]
     },
     "execution_count": 11,
     "metadata": {},
     "output_type": "execute_result"
    }
   ],
   "source": [
    "all([i not in test[\"pair_id\"] for i in val[\"pair_id\"]])"
   ]
  },
  {
   "cell_type": "code",
   "execution_count": 12,
   "metadata": {},
   "outputs": [],
   "source": [
    "dest_dir = os.path.join(\"..\", \"data\", \"cleaned\")\n",
    "\n",
    "train.to_csv(os.path.join(dest_dir, \"train.csv\"), index=False)\n",
    "val.to_csv(os.path.join(dest_dir, \"validation.csv\"), index=False)\n",
    "test.to_csv(os.path.join(dest_dir, \"test.csv\"), index=False)"
   ]
  },
  {
   "cell_type": "code",
   "execution_count": 13,
   "metadata": {},
   "outputs": [
    {
     "data": {
      "text/html": [
       "<div>\n",
       "<style scoped>\n",
       "    .dataframe tbody tr th:only-of-type {\n",
       "        vertical-align: middle;\n",
       "    }\n",
       "\n",
       "    .dataframe tbody tr th {\n",
       "        vertical-align: top;\n",
       "    }\n",
       "\n",
       "    .dataframe thead th {\n",
       "        text-align: right;\n",
       "    }\n",
       "</style>\n",
       "<table border=\"1\" class=\"dataframe\">\n",
       "  <thead>\n",
       "    <tr style=\"text-align: right;\">\n",
       "      <th></th>\n",
       "      <th>pair_id</th>\n",
       "      <th>label</th>\n",
       "      <th>ic50</th>\n",
       "      <th>cell_line_id</th>\n",
       "      <th>drug_id</th>\n",
       "      <th>cancer_type</th>\n",
       "    </tr>\n",
       "  </thead>\n",
       "  <tbody>\n",
       "    <tr>\n",
       "      <th>84261</th>\n",
       "      <td>ACH-000198_LAML_11282283</td>\n",
       "      <td>0</td>\n",
       "      <td>0.210770</td>\n",
       "      <td>ACH-000198</td>\n",
       "      <td>11282283</td>\n",
       "      <td>LAML</td>\n",
       "    </tr>\n",
       "    <tr>\n",
       "      <th>8231</th>\n",
       "      <td>ACH-000191_THCA_216326</td>\n",
       "      <td>0</td>\n",
       "      <td>3.225571</td>\n",
       "      <td>ACH-000191</td>\n",
       "      <td>216326</td>\n",
       "      <td>THCA</td>\n",
       "    </tr>\n",
       "    <tr>\n",
       "      <th>6608</th>\n",
       "      <td>ACH-000767_SCLC_6918289</td>\n",
       "      <td>0</td>\n",
       "      <td>-1.497495</td>\n",
       "      <td>ACH-000767</td>\n",
       "      <td>6918289</td>\n",
       "      <td>SCLC</td>\n",
       "    </tr>\n",
       "    <tr>\n",
       "      <th>81445</th>\n",
       "      <td>ACH-000572_SKCM_56965967</td>\n",
       "      <td>1</td>\n",
       "      <td>2.489474</td>\n",
       "      <td>ACH-000572</td>\n",
       "      <td>56965967</td>\n",
       "      <td>SKCM</td>\n",
       "    </tr>\n",
       "    <tr>\n",
       "      <th>13297</th>\n",
       "      <td>ACH-000810_SKCM_300471</td>\n",
       "      <td>1</td>\n",
       "      <td>-2.647630</td>\n",
       "      <td>ACH-000810</td>\n",
       "      <td>300471</td>\n",
       "      <td>SKCM</td>\n",
       "    </tr>\n",
       "  </tbody>\n",
       "</table>\n",
       "</div>"
      ],
      "text/plain": [
       "                        pair_id  label      ic50 cell_line_id   drug_id  \\\n",
       "84261  ACH-000198_LAML_11282283      0  0.210770   ACH-000198  11282283   \n",
       "8231     ACH-000191_THCA_216326      0  3.225571   ACH-000191    216326   \n",
       "6608    ACH-000767_SCLC_6918289      0 -1.497495   ACH-000767   6918289   \n",
       "81445  ACH-000572_SKCM_56965967      1  2.489474   ACH-000572  56965967   \n",
       "13297    ACH-000810_SKCM_300471      1 -2.647630   ACH-000810    300471   \n",
       "\n",
       "      cancer_type  \n",
       "84261        LAML  \n",
       "8231         THCA  \n",
       "6608         SCLC  \n",
       "81445        SKCM  \n",
       "13297        SKCM  "
      ]
     },
     "execution_count": 13,
     "metadata": {},
     "output_type": "execute_result"
    }
   ],
   "source": [
    "train.head()"
   ]
  },
  {
   "cell_type": "code",
   "execution_count": 14,
   "metadata": {},
   "outputs": [
    {
     "data": {
      "text/plain": [
       "'11282283'"
      ]
     },
     "execution_count": 14,
     "metadata": {},
     "output_type": "execute_result"
    }
   ],
   "source": [
    "train.iloc[0][\"drug_id\"]"
   ]
  },
  {
   "cell_type": "code",
   "execution_count": null,
   "metadata": {},
   "outputs": [],
   "source": []
  }
 ],
 "metadata": {
  "kernelspec": {
   "display_name": "pytorch",
   "language": "python",
   "name": "python3"
  },
  "language_info": {
   "codemirror_mode": {
    "name": "ipython",
    "version": 3
   },
   "file_extension": ".py",
   "mimetype": "text/x-python",
   "name": "python",
   "nbconvert_exporter": "python",
   "pygments_lexer": "ipython3",
   "version": "3.12.2"
  }
 },
 "nbformat": 4,
 "nbformat_minor": 2
}
